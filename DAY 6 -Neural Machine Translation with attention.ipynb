{
 "cells": [
  {
   "cell_type": "code",
   "execution_count": 1,
   "metadata": {},
   "outputs": [
    {
     "name": "stderr",
     "output_type": "stream",
     "text": [
      "/home/vijay/anaconda3/lib/python3.6/site-packages/h5py/__init__.py:36: FutureWarning: Conversion of the second argument of issubdtype from `float` to `np.floating` is deprecated. In future, it will be treated as `np.float64 == np.dtype(float).type`.\n",
      "  from ._conv import register_converters as _register_converters\n",
      "Using TensorFlow backend.\n"
     ]
    }
   ],
   "source": [
    "from __future__ import print_function, division\n",
    "from builtins import range, input\n",
    "import os, sys\n",
    "\n",
    "from keras.models import Model\n",
    "from keras.layers import Input, LSTM, GRU, Dense, Embedding, \\\n",
    "  Bidirectional, RepeatVector, Concatenate, Activation, Dot, Lambda\n",
    "from keras.preprocessing.text import Tokenizer\n",
    "from keras.preprocessing.sequence import pad_sequences\n",
    "import keras.backend as K\n",
    "\n",
    "import numpy as np\n",
    "import matplotlib.pyplot as plt\n",
    "\n",
    "if len(K.tensorflow_backend._get_available_gpus()) > 0:\n",
    "  from keras.layers import CuDNNLSTM as LSTM\n",
    "  from keras.layers import CuDNNGRU as GRU"
   ]
  },
  {
   "cell_type": "code",
   "execution_count": 2,
   "metadata": {},
   "outputs": [],
   "source": [
    "def softmax_over_time(x):\n",
    "  assert(K.ndim(x) > 2)\n",
    "  e = K.exp(x - K.max(x, axis=1, keepdims=True))\n",
    "  s = K.sum(e, axis=1, keepdims=True)\n",
    "  return e / s"
   ]
  },
  {
   "cell_type": "code",
   "execution_count": 3,
   "metadata": {},
   "outputs": [],
   "source": [
    "# config\n",
    "BATCH_SIZE = 64\n",
    "EPOCHS = 100\n",
    "LATENT_DIM = 256\n",
    "LATENT_DIM_DECODER = 256 # idea: make it different to ensure things all fit together properly!\n",
    "NUM_SAMPLES = 10000\n",
    "MAX_SEQUENCE_LENGTH = 100\n",
    "MAX_NUM_WORDS = 20000\n",
    "EMBEDDING_DIM = 100"
   ]
  },
  {
   "cell_type": "code",
   "execution_count": 4,
   "metadata": {},
   "outputs": [],
   "source": [
    "# Where we will store the data\n",
    "input_texts = [] # sentence in original language\n",
    "target_texts = [] # sentence in target language\n",
    "target_texts_inputs = [] # sentence in target language offset by 1"
   ]
  },
  {
   "cell_type": "code",
   "execution_count": 5,
   "metadata": {},
   "outputs": [
    {
     "name": "stdout",
     "output_type": "stream",
     "text": [
      "num samples: 10000\n"
     ]
    }
   ],
   "source": [
    "t = 0\n",
    "for line in open('DATASET/spa-eng/spa.txt'):\n",
    "  # only keep a limited number of samples\n",
    "  t += 1\n",
    "  if t > NUM_SAMPLES:\n",
    "    break\n",
    "\n",
    "  # input and target are separated by tab\n",
    "  if '\\t' not in line:\n",
    "    continue\n",
    "\n",
    "  # split up the input and translation\n",
    "  input_text, translation = line.rstrip().split('\\t')\n",
    "\n",
    "  # make the target input and output\n",
    "  # recall we'll be using teacher forcing\n",
    "  target_text = translation + ' <eos>'\n",
    "  target_text_input = '<sos> ' + translation\n",
    "\n",
    "  input_texts.append(input_text)\n",
    "  target_texts.append(target_text)\n",
    "  target_texts_inputs.append(target_text_input)\n",
    "print(\"num samples:\", len(input_texts))"
   ]
  },
  {
   "cell_type": "code",
   "execution_count": 6,
   "metadata": {},
   "outputs": [],
   "source": [
    "# tokenize the inputs\n",
    "tokenizer_inputs = Tokenizer(num_words=MAX_NUM_WORDS)\n",
    "tokenizer_inputs.fit_on_texts(input_texts)\n",
    "input_sequences = tokenizer_inputs.texts_to_sequences(input_texts)"
   ]
  },
  {
   "cell_type": "code",
   "execution_count": 7,
   "metadata": {},
   "outputs": [
    {
     "name": "stdout",
     "output_type": "stream",
     "text": [
      "Found 2368 unique input tokens.\n"
     ]
    }
   ],
   "source": [
    "# get the word to index mapping for input language\n",
    "word2idx_inputs = tokenizer_inputs.word_index\n",
    "print('Found %s unique input tokens.' % len(word2idx_inputs))"
   ]
  },
  {
   "cell_type": "code",
   "execution_count": 8,
   "metadata": {},
   "outputs": [],
   "source": [
    "# determine maximum length input sequence\n",
    "max_len_input = max(len(s) for s in input_sequences)"
   ]
  },
  {
   "cell_type": "code",
   "execution_count": 9,
   "metadata": {},
   "outputs": [],
   "source": [
    "# tokenize the outputs\n",
    "# don't filter out special characters\n",
    "# otherwise <sos> and <eos> won't appear\n",
    "tokenizer_outputs = Tokenizer(num_words=MAX_NUM_WORDS, filters='')\n",
    "tokenizer_outputs.fit_on_texts(target_texts + target_texts_inputs) # inefficient, oh well\n",
    "target_sequences = tokenizer_outputs.texts_to_sequences(target_texts)\n",
    "target_sequences_inputs = tokenizer_outputs.texts_to_sequences(target_texts_inputs)"
   ]
  },
  {
   "cell_type": "code",
   "execution_count": 10,
   "metadata": {},
   "outputs": [
    {
     "name": "stdout",
     "output_type": "stream",
     "text": [
      "Found 6302 unique output tokens.\n"
     ]
    }
   ],
   "source": [
    "# get the word to index mapping for output language\n",
    "word2idx_outputs = tokenizer_outputs.word_index\n",
    "print('Found %s unique output tokens.' % len(word2idx_outputs))"
   ]
  },
  {
   "cell_type": "code",
   "execution_count": 11,
   "metadata": {},
   "outputs": [],
   "source": [
    "# store number of output words for later\n",
    "# remember to add 1 since indexing starts at 1\n",
    "num_words_output = len(word2idx_outputs) + 1"
   ]
  },
  {
   "cell_type": "code",
   "execution_count": 12,
   "metadata": {},
   "outputs": [],
   "source": [
    "# determine maximum length output sequence\n",
    "max_len_target = max(len(s) for s in target_sequences)"
   ]
  },
  {
   "cell_type": "code",
   "execution_count": 13,
   "metadata": {},
   "outputs": [
    {
     "name": "stdout",
     "output_type": "stream",
     "text": [
      "encoder_data.shape: (10000, 5)\n",
      "encoder_data[0]: [ 0  0  0  0 14]\n",
      "decoder_data[0]: [   2 1481    0    0    0    0    0    0    0]\n",
      "decoder_data.shape: (10000, 9)\n"
     ]
    }
   ],
   "source": [
    "# pad the sequences\n",
    "encoder_inputs = pad_sequences(input_sequences, maxlen=max_len_input)\n",
    "print(\"encoder_data.shape:\", encoder_inputs.shape)\n",
    "print(\"encoder_data[0]:\", encoder_inputs[0])\n",
    "\n",
    "decoder_inputs = pad_sequences(target_sequences_inputs, maxlen=max_len_target, padding='post')\n",
    "print(\"decoder_data[0]:\", decoder_inputs[0])\n",
    "print(\"decoder_data.shape:\", decoder_inputs.shape)\n",
    "\n",
    "decoder_targets = pad_sequences(target_sequences, maxlen=max_len_target, padding='post')"
   ]
  },
  {
   "cell_type": "code",
   "execution_count": 14,
   "metadata": {},
   "outputs": [
    {
     "name": "stdout",
     "output_type": "stream",
     "text": [
      "Loading word vectors...\n",
      "Found 400000 word vectors.\n"
     ]
    }
   ],
   "source": [
    "# store all the pre-trained word vectors\n",
    "print('Loading word vectors...')\n",
    "word2vec = {}\n",
    "with open(os.path.join('DATASET/glove.6B/glove.6B.%sd.txt' % EMBEDDING_DIM)) as f:\n",
    "  # is just a space-separated text file in the format:\n",
    "  # word vec[0] vec[1] vec[2] ...\n",
    "  for line in f:\n",
    "    values = line.split()\n",
    "    word = values[0]\n",
    "    vec = np.asarray(values[1:], dtype='float32')\n",
    "    word2vec[word] = vec\n",
    "print('Found %s word vectors.' % len(word2vec))\n"
   ]
  },
  {
   "cell_type": "code",
   "execution_count": 15,
   "metadata": {},
   "outputs": [
    {
     "name": "stdout",
     "output_type": "stream",
     "text": [
      "Filling pre-trained embeddings...\n"
     ]
    }
   ],
   "source": [
    "# prepare embedding matrix\n",
    "print('Filling pre-trained embeddings...')\n",
    "num_words = min(MAX_NUM_WORDS, len(word2idx_inputs) + 1)\n",
    "embedding_matrix = np.zeros((num_words, EMBEDDING_DIM))\n",
    "for word, i in word2idx_inputs.items():\n",
    "  if i < MAX_NUM_WORDS:\n",
    "    embedding_vector = word2vec.get(word)\n",
    "    if embedding_vector is not None:\n",
    "      # words not found in embedding index will be all zeros.\n",
    "      embedding_matrix[i] = embedding_vector"
   ]
  },
  {
   "cell_type": "code",
   "execution_count": 16,
   "metadata": {},
   "outputs": [],
   "source": [
    "# create embedding layer\n",
    "embedding_layer = Embedding(\n",
    "  num_words,\n",
    "  EMBEDDING_DIM,\n",
    "  weights=[embedding_matrix],\n",
    "  input_length=max_len_input,\n",
    "  # trainable=True\n",
    ")"
   ]
  },
  {
   "cell_type": "code",
   "execution_count": 17,
   "metadata": {},
   "outputs": [],
   "source": [
    "# create targets, since we cannot use sparse\n",
    "# categorical cross entropy when we have sequences\n",
    "decoder_targets_one_hot = np.zeros(\n",
    "  (\n",
    "    len(input_texts),\n",
    "    max_len_target,\n",
    "    num_words_output\n",
    "  ),\n",
    "  dtype='float32'\n",
    ")"
   ]
  },
  {
   "cell_type": "code",
   "execution_count": 18,
   "metadata": {},
   "outputs": [],
   "source": [
    "# assign the values\n",
    "for i, d in enumerate(decoder_targets):\n",
    "  for t, word in enumerate(d):\n",
    "    decoder_targets_one_hot[i, t, word] = 1"
   ]
  },
  {
   "cell_type": "code",
   "execution_count": 21,
   "metadata": {},
   "outputs": [],
   "source": [
    "##### build the model #####\n",
    "\n",
    "# Set up the encoder - simple!\n",
    "encoder_inputs_placeholder = Input(shape=(max_len_input,))\n",
    "x = embedding_layer(encoder_inputs_placeholder)\n",
    "encoder = Bidirectional(LSTM(\n",
    "  LATENT_DIM,\n",
    "  return_sequences=True,\n",
    "  # dropout=0.5 # dropout not available on gpu\n",
    "))\n",
    "encoder_outputs = encoder(x)\n",
    "\n",
    "\n",
    "# Set up the decoder - not so simple\n",
    "decoder_inputs_placeholder = Input(shape=(max_len_target,))\n",
    "\n",
    "# this word embedding will not use pre-trained vectors\n",
    "# although you could\n",
    "decoder_embedding = Embedding(num_words_output, EMBEDDING_DIM)\n",
    "decoder_inputs_x = decoder_embedding(decoder_inputs_placeholder)"
   ]
  },
  {
   "cell_type": "code",
   "execution_count": 22,
   "metadata": {},
   "outputs": [],
   "source": [
    "######### Attention #########\n",
    "# Attention layers need to be global because\n",
    "# they will be repeated Ty times at the decoder\n",
    "attn_repeat_layer = RepeatVector(max_len_input)\n",
    "attn_concat_layer = Concatenate(axis=-1)\n",
    "attn_dense1 = Dense(10, activation='tanh')\n",
    "attn_dense2 = Dense(1, activation=softmax_over_time)\n",
    "attn_dot = Dot(axes=1) # to perform the weighted sum of alpha[t] * h[t]"
   ]
  },
  {
   "cell_type": "code",
   "execution_count": 23,
   "metadata": {},
   "outputs": [],
   "source": [
    "def one_step_attention(h, st_1):\n",
    "  # h = h(1), ..., h(Tx), shape = (Tx, LATENT_DIM * 2)\n",
    "  # st_1 = s(t-1), shape = (LATENT_DIM_DECODER,)\n",
    " \n",
    "  # copy s(t-1) Tx times\n",
    "  # now shape = (Tx, LATENT_DIM_DECODER)\n",
    "  st_1 = attn_repeat_layer(st_1)\n",
    "\n",
    "  # Concatenate all h(t)'s with s(t-1)\n",
    "  # Now of shape (Tx, LATENT_DIM_DECODER + LATENT_DIM * 2)\n",
    "  x = attn_concat_layer([h, st_1])\n",
    "\n",
    "  # Neural net first layer\n",
    "  x = attn_dense1(x)\n",
    "\n",
    "  # Neural net second layer with special softmax over time\n",
    "  alphas = attn_dense2(x)\n",
    "\n",
    "  # \"Dot\" the alphas and the h's\n",
    "  # Remember a.dot(b) = sum over a[t] * b[t]\n",
    "  context = attn_dot([alphas, h])\n",
    "\n",
    "  return context"
   ]
  },
  {
   "cell_type": "code",
   "execution_count": 24,
   "metadata": {},
   "outputs": [],
   "source": [
    "# define the rest of the decoder (after attention)\n",
    "decoder_lstm = LSTM(LATENT_DIM_DECODER, return_state=True)\n",
    "decoder_dense = Dense(num_words_output, activation='softmax')\n",
    "\n",
    "initial_s = Input(shape=(LATENT_DIM_DECODER,), name='s0')\n",
    "initial_c = Input(shape=(LATENT_DIM_DECODER,), name='c0')\n",
    "context_last_word_concat_layer = Concatenate(axis=2)"
   ]
  },
  {
   "cell_type": "code",
   "execution_count": 25,
   "metadata": {},
   "outputs": [],
   "source": [
    "# s, c will be re-assigned in each iteration of the loop\n",
    "s = initial_s\n",
    "c = initial_c"
   ]
  },
  {
   "cell_type": "code",
   "execution_count": 26,
   "metadata": {},
   "outputs": [],
   "source": [
    "# collect outputs in a list at first\n",
    "outputs = []\n",
    "for t in range(max_len_target): # Ty times\n",
    "  # get the context using attention\n",
    "  context = one_step_attention(encoder_outputs, s)\n",
    "\n",
    "  # we need a different layer for each time step\n",
    "  selector = Lambda(lambda x: x[:, t:t+1])\n",
    "  xt = selector(decoder_inputs_x)\n",
    "  \n",
    "  # combine \n",
    "  decoder_lstm_input = context_last_word_concat_layer([context, xt])\n",
    "\n",
    "  # pass the combined [context, last word] into the LSTM\n",
    "  # along with [s, c]\n",
    "  # get the new [s, c] and output\n",
    "  o, s, c = decoder_lstm(decoder_lstm_input, initial_state=[s, c])\n",
    "\n",
    "  # final dense layer to get next word prediction\n",
    "  decoder_outputs = decoder_dense(o)\n",
    "  outputs.append(decoder_outputs)"
   ]
  },
  {
   "cell_type": "code",
   "execution_count": 27,
   "metadata": {},
   "outputs": [],
   "source": [
    "def stack_and_transpose(x):\n",
    "  # x is a list of length T, each element is a batch_size x output_vocab_size tensor\n",
    "  x = K.stack(x) # is now T x batch_size x output_vocab_size tensor\n",
    "  x = K.permute_dimensions(x, pattern=(1, 0, 2)) # is now batch_size x T x output_vocab_size\n",
    "  return x"
   ]
  },
  {
   "cell_type": "code",
   "execution_count": 28,
   "metadata": {},
   "outputs": [],
   "source": [
    "# make it a layer\n",
    "stacker = Lambda(stack_and_transpose)\n",
    "outputs = stacker(outputs)"
   ]
  },
  {
   "cell_type": "code",
   "execution_count": 29,
   "metadata": {},
   "outputs": [],
   "source": [
    "# create the model\n",
    "model = Model(\n",
    "  inputs=[\n",
    "    encoder_inputs_placeholder,\n",
    "    decoder_inputs_placeholder,\n",
    "    initial_s, \n",
    "    initial_c,\n",
    "  ],\n",
    "  outputs=outputs\n",
    ")"
   ]
  },
  {
   "cell_type": "code",
   "execution_count": 30,
   "metadata": {},
   "outputs": [],
   "source": [
    "# compile the model\n",
    "model.compile(optimizer='rmsprop', loss='categorical_crossentropy', metrics=['accuracy'])"
   ]
  },
  {
   "cell_type": "code",
   "execution_count": 31,
   "metadata": {},
   "outputs": [
    {
     "name": "stdout",
     "output_type": "stream",
     "text": [
      "Train on 8000 samples, validate on 2000 samples\n",
      "Epoch 1/100\n",
      "8000/8000 [==============================] - 66s 8ms/step - loss: 2.7366 - acc: 0.6326 - val_loss: 2.6753 - val_acc: 0.6492\n",
      "Epoch 2/100\n",
      "8000/8000 [==============================] - 33s 4ms/step - loss: 2.0574 - acc: 0.7109 - val_loss: 2.4330 - val_acc: 0.6731\n",
      "Epoch 3/100\n",
      "8000/8000 [==============================] - 32s 4ms/step - loss: 1.8343 - acc: 0.7316 - val_loss: 2.2753 - val_acc: 0.6892\n",
      "Epoch 4/100\n",
      "8000/8000 [==============================] - 33s 4ms/step - loss: 1.6687 - acc: 0.7509 - val_loss: 2.1584 - val_acc: 0.7052\n",
      "Epoch 5/100\n",
      "8000/8000 [==============================] - 32s 4ms/step - loss: 1.5337 - acc: 0.7660 - val_loss: 2.0700 - val_acc: 0.7147\n",
      "Epoch 6/100\n",
      "8000/8000 [==============================] - 33s 4ms/step - loss: 1.4231 - acc: 0.7790 - val_loss: 2.0247 - val_acc: 0.7221\n",
      "Epoch 7/100\n",
      "8000/8000 [==============================] - 33s 4ms/step - loss: 1.3252 - acc: 0.7917 - val_loss: 1.9786 - val_acc: 0.7292\n",
      "Epoch 8/100\n",
      "8000/8000 [==============================] - 34s 4ms/step - loss: 1.2405 - acc: 0.8026 - val_loss: 1.9704 - val_acc: 0.7362\n",
      "Epoch 9/100\n",
      "8000/8000 [==============================] - 33s 4ms/step - loss: 1.1685 - acc: 0.8125 - val_loss: 1.9293 - val_acc: 0.7394\n",
      "Epoch 10/100\n",
      "8000/8000 [==============================] - 33s 4ms/step - loss: 1.1002 - acc: 0.8204 - val_loss: 1.9048 - val_acc: 0.7421\n",
      "Epoch 11/100\n",
      "8000/8000 [==============================] - 33s 4ms/step - loss: 1.0380 - acc: 0.8298 - val_loss: 1.8917 - val_acc: 0.7444\n",
      "Epoch 12/100\n",
      "8000/8000 [==============================] - 33s 4ms/step - loss: 0.9847 - acc: 0.8365 - val_loss: 1.8854 - val_acc: 0.7446\n",
      "Epoch 13/100\n",
      "8000/8000 [==============================] - 33s 4ms/step - loss: 0.9362 - acc: 0.8436 - val_loss: 1.9002 - val_acc: 0.7454\n",
      "Epoch 14/100\n",
      "8000/8000 [==============================] - 34s 4ms/step - loss: 0.8894 - acc: 0.8500 - val_loss: 1.9024 - val_acc: 0.7428\n",
      "Epoch 15/100\n",
      "8000/8000 [==============================] - 34s 4ms/step - loss: 0.8437 - acc: 0.8575 - val_loss: 1.9221 - val_acc: 0.7398\n",
      "Epoch 16/100\n",
      "8000/8000 [==============================] - 34s 4ms/step - loss: 0.8027 - acc: 0.8633 - val_loss: 1.9137 - val_acc: 0.7439\n",
      "Epoch 17/100\n",
      "8000/8000 [==============================] - 34s 4ms/step - loss: 0.7618 - acc: 0.8698 - val_loss: 1.9039 - val_acc: 0.7471\n",
      "Epoch 18/100\n",
      "8000/8000 [==============================] - 32s 4ms/step - loss: 0.7246 - acc: 0.8747 - val_loss: 1.9141 - val_acc: 0.7422\n",
      "Epoch 19/100\n",
      "8000/8000 [==============================] - 33s 4ms/step - loss: 0.6945 - acc: 0.8803 - val_loss: 1.9264 - val_acc: 0.7394\n",
      "Epoch 20/100\n",
      "8000/8000 [==============================] - 33s 4ms/step - loss: 0.6675 - acc: 0.8846 - val_loss: 1.9289 - val_acc: 0.7426\n",
      "Epoch 21/100\n",
      "8000/8000 [==============================] - 32s 4ms/step - loss: 0.6398 - acc: 0.8883 - val_loss: 1.9461 - val_acc: 0.7407\n",
      "Epoch 22/100\n",
      "8000/8000 [==============================] - 32s 4ms/step - loss: 0.6152 - acc: 0.8923 - val_loss: 1.9641 - val_acc: 0.7379\n",
      "Epoch 23/100\n",
      "8000/8000 [==============================] - 34s 4ms/step - loss: 0.5957 - acc: 0.8970 - val_loss: 1.9653 - val_acc: 0.7405\n",
      "Epoch 24/100\n",
      "8000/8000 [==============================] - 33s 4ms/step - loss: 0.5767 - acc: 0.8995 - val_loss: 1.9900 - val_acc: 0.7366\n",
      "Epoch 25/100\n",
      "8000/8000 [==============================] - 32s 4ms/step - loss: 0.5561 - acc: 0.9026 - val_loss: 1.9818 - val_acc: 0.7382\n",
      "Epoch 26/100\n",
      "8000/8000 [==============================] - 31s 4ms/step - loss: 0.5414 - acc: 0.9047 - val_loss: 2.0059 - val_acc: 0.7361\n",
      "Epoch 27/100\n",
      "8000/8000 [==============================] - 31s 4ms/step - loss: 0.5271 - acc: 0.9079 - val_loss: 2.0339 - val_acc: 0.7331\n",
      "Epoch 28/100\n",
      "8000/8000 [==============================] - 33s 4ms/step - loss: 0.5101 - acc: 0.9095 - val_loss: 2.0396 - val_acc: 0.7331\n",
      "Epoch 29/100\n",
      "8000/8000 [==============================] - 33s 4ms/step - loss: 0.4917 - acc: 0.9128 - val_loss: 2.0341 - val_acc: 0.7347\n",
      "Epoch 30/100\n",
      "8000/8000 [==============================] - 33s 4ms/step - loss: 0.4762 - acc: 0.9156 - val_loss: 2.0575 - val_acc: 0.7303\n",
      "Epoch 31/100\n",
      "8000/8000 [==============================] - 33s 4ms/step - loss: 0.4634 - acc: 0.9173 - val_loss: 2.0563 - val_acc: 0.7312\n",
      "Epoch 32/100\n",
      "8000/8000 [==============================] - 33s 4ms/step - loss: 0.4526 - acc: 0.9195 - val_loss: 2.0626 - val_acc: 0.7326\n",
      "Epoch 33/100\n",
      "8000/8000 [==============================] - 33s 4ms/step - loss: 0.4430 - acc: 0.9218 - val_loss: 2.0554 - val_acc: 0.7342\n",
      "Epoch 34/100\n",
      "8000/8000 [==============================] - 33s 4ms/step - loss: 0.4321 - acc: 0.9226 - val_loss: 2.0856 - val_acc: 0.7296\n",
      "Epoch 35/100\n",
      "8000/8000 [==============================] - 34s 4ms/step - loss: 0.4215 - acc: 0.9243 - val_loss: 2.0939 - val_acc: 0.7289\n",
      "Epoch 36/100\n",
      "8000/8000 [==============================] - 33s 4ms/step - loss: 0.4126 - acc: 0.9264 - val_loss: 2.0976 - val_acc: 0.7312\n",
      "Epoch 37/100\n",
      "8000/8000 [==============================] - 33s 4ms/step - loss: 0.4052 - acc: 0.9277 - val_loss: 2.1090 - val_acc: 0.7308\n",
      "Epoch 38/100\n",
      "8000/8000 [==============================] - 34s 4ms/step - loss: 0.3987 - acc: 0.9286 - val_loss: 2.1262 - val_acc: 0.7288\n",
      "Epoch 39/100\n",
      "8000/8000 [==============================] - 33s 4ms/step - loss: 0.3923 - acc: 0.9285 - val_loss: 2.1410 - val_acc: 0.7288\n",
      "Epoch 40/100\n",
      "8000/8000 [==============================] - 34s 4ms/step - loss: 0.3849 - acc: 0.9315 - val_loss: 2.1340 - val_acc: 0.7270\n",
      "Epoch 41/100\n",
      "8000/8000 [==============================] - 33s 4ms/step - loss: 0.3770 - acc: 0.9318 - val_loss: 2.1407 - val_acc: 0.7277\n",
      "Epoch 42/100\n",
      "8000/8000 [==============================] - 33s 4ms/step - loss: 0.3694 - acc: 0.9335 - val_loss: 2.1515 - val_acc: 0.7272\n",
      "Epoch 43/100\n",
      "8000/8000 [==============================] - 33s 4ms/step - loss: 0.3610 - acc: 0.9345 - val_loss: 2.1438 - val_acc: 0.7279\n",
      "Epoch 44/100\n",
      "8000/8000 [==============================] - 33s 4ms/step - loss: 0.3530 - acc: 0.9360 - val_loss: 2.1574 - val_acc: 0.7272\n",
      "Epoch 45/100\n",
      "8000/8000 [==============================] - 34s 4ms/step - loss: 0.3456 - acc: 0.9368 - val_loss: 2.1533 - val_acc: 0.7287\n",
      "Epoch 46/100\n",
      "8000/8000 [==============================] - 34s 4ms/step - loss: 0.3395 - acc: 0.9381 - val_loss: 2.1647 - val_acc: 0.7264\n",
      "Epoch 47/100\n",
      "8000/8000 [==============================] - 33s 4ms/step - loss: 0.3356 - acc: 0.9387 - val_loss: 2.1809 - val_acc: 0.7274\n",
      "Epoch 48/100\n",
      "8000/8000 [==============================] - 33s 4ms/step - loss: 0.3327 - acc: 0.9392 - val_loss: 2.1723 - val_acc: 0.7279\n",
      "Epoch 49/100\n",
      "8000/8000 [==============================] - 32s 4ms/step - loss: 0.3294 - acc: 0.9399 - val_loss: 2.1783 - val_acc: 0.7283\n",
      "Epoch 50/100\n",
      "8000/8000 [==============================] - 32s 4ms/step - loss: 0.3274 - acc: 0.9403 - val_loss: 2.1896 - val_acc: 0.7257\n",
      "Epoch 51/100\n",
      "8000/8000 [==============================] - 31s 4ms/step - loss: 0.3243 - acc: 0.9407 - val_loss: 2.2032 - val_acc: 0.7271\n",
      "Epoch 52/100\n",
      "8000/8000 [==============================] - 32s 4ms/step - loss: 0.3226 - acc: 0.9407 - val_loss: 2.2074 - val_acc: 0.7260\n",
      "Epoch 53/100\n",
      "8000/8000 [==============================] - 33s 4ms/step - loss: 0.3200 - acc: 0.9410 - val_loss: 2.2216 - val_acc: 0.7234\n",
      "Epoch 54/100\n",
      "8000/8000 [==============================] - 33s 4ms/step - loss: 0.3181 - acc: 0.9408 - val_loss: 2.2158 - val_acc: 0.7236\n",
      "Epoch 55/100\n",
      "8000/8000 [==============================] - 33s 4ms/step - loss: 0.3153 - acc: 0.9417 - val_loss: 2.2314 - val_acc: 0.7253\n",
      "Epoch 56/100\n",
      "8000/8000 [==============================] - 33s 4ms/step - loss: 0.3130 - acc: 0.9420 - val_loss: 2.2167 - val_acc: 0.7273\n",
      "Epoch 57/100\n",
      "8000/8000 [==============================] - 32s 4ms/step - loss: 0.3109 - acc: 0.9419 - val_loss: 2.2336 - val_acc: 0.7251\n",
      "Epoch 58/100\n",
      "8000/8000 [==============================] - 34s 4ms/step - loss: 0.3085 - acc: 0.9424 - val_loss: 2.2319 - val_acc: 0.7258\n",
      "Epoch 59/100\n",
      "8000/8000 [==============================] - 33s 4ms/step - loss: 0.3076 - acc: 0.9433 - val_loss: 2.2355 - val_acc: 0.7247\n",
      "Epoch 60/100\n"
     ]
    },
    {
     "name": "stdout",
     "output_type": "stream",
     "text": [
      "8000/8000 [==============================] - 33s 4ms/step - loss: 0.3052 - acc: 0.9432 - val_loss: 2.2506 - val_acc: 0.7241\n",
      "Epoch 61/100\n",
      "8000/8000 [==============================] - 33s 4ms/step - loss: 0.3037 - acc: 0.9436 - val_loss: 2.2503 - val_acc: 0.7249\n",
      "Epoch 62/100\n",
      "8000/8000 [==============================] - 33s 4ms/step - loss: 0.3009 - acc: 0.9437 - val_loss: 2.2598 - val_acc: 0.7253\n",
      "Epoch 63/100\n",
      "8000/8000 [==============================] - 33s 4ms/step - loss: 0.2991 - acc: 0.9441 - val_loss: 2.2644 - val_acc: 0.7246\n",
      "Epoch 64/100\n",
      "8000/8000 [==============================] - 33s 4ms/step - loss: 0.2981 - acc: 0.9438 - val_loss: 2.2860 - val_acc: 0.7237\n",
      "Epoch 65/100\n",
      "8000/8000 [==============================] - 34s 4ms/step - loss: 0.2930 - acc: 0.9448 - val_loss: 2.2749 - val_acc: 0.7255\n",
      "Epoch 66/100\n",
      "8000/8000 [==============================] - 34s 4ms/step - loss: 0.2895 - acc: 0.9450 - val_loss: 2.2924 - val_acc: 0.7248\n",
      "Epoch 67/100\n",
      "8000/8000 [==============================] - 33s 4ms/step - loss: 0.2869 - acc: 0.9462 - val_loss: 2.2852 - val_acc: 0.7252\n",
      "Epoch 68/100\n",
      "8000/8000 [==============================] - 34s 4ms/step - loss: 0.2847 - acc: 0.9468 - val_loss: 2.2788 - val_acc: 0.7242\n",
      "Epoch 69/100\n",
      "8000/8000 [==============================] - 33s 4ms/step - loss: 0.2842 - acc: 0.9471 - val_loss: 2.2848 - val_acc: 0.7242\n",
      "Epoch 70/100\n",
      "8000/8000 [==============================] - 32s 4ms/step - loss: 0.2829 - acc: 0.9469 - val_loss: 2.2969 - val_acc: 0.7233\n",
      "Epoch 71/100\n",
      "8000/8000 [==============================] - 33s 4ms/step - loss: 0.2822 - acc: 0.9469 - val_loss: 2.2936 - val_acc: 0.7241\n",
      "Epoch 72/100\n",
      "8000/8000 [==============================] - 37s 5ms/step - loss: 0.2814 - acc: 0.9473 - val_loss: 2.3039 - val_acc: 0.7244\n",
      "Epoch 73/100\n",
      "8000/8000 [==============================] - 32s 4ms/step - loss: 0.2812 - acc: 0.9470 - val_loss: 2.3053 - val_acc: 0.7239\n",
      "Epoch 74/100\n",
      "8000/8000 [==============================] - 33s 4ms/step - loss: 0.2807 - acc: 0.9474 - val_loss: 2.2988 - val_acc: 0.7252\n",
      "Epoch 75/100\n",
      "8000/8000 [==============================] - 32s 4ms/step - loss: 0.2795 - acc: 0.9473 - val_loss: 2.3226 - val_acc: 0.7231\n",
      "Epoch 76/100\n",
      "8000/8000 [==============================] - 32s 4ms/step - loss: 0.2793 - acc: 0.9478 - val_loss: 2.3191 - val_acc: 0.7243\n",
      "Epoch 77/100\n",
      "8000/8000 [==============================] - 33s 4ms/step - loss: 0.2790 - acc: 0.9483 - val_loss: 2.3197 - val_acc: 0.7243\n",
      "Epoch 78/100\n",
      "8000/8000 [==============================] - 33s 4ms/step - loss: 0.2800 - acc: 0.9478 - val_loss: 2.3142 - val_acc: 0.7247\n",
      "Epoch 79/100\n",
      "8000/8000 [==============================] - 33s 4ms/step - loss: 0.2807 - acc: 0.9480 - val_loss: 2.3361 - val_acc: 0.7234\n",
      "Epoch 80/100\n",
      "8000/8000 [==============================] - 31s 4ms/step - loss: 0.2809 - acc: 0.9474 - val_loss: 2.3195 - val_acc: 0.7247\n",
      "Epoch 81/100\n",
      "8000/8000 [==============================] - 31s 4ms/step - loss: 0.2814 - acc: 0.9474 - val_loss: 2.3311 - val_acc: 0.7246\n",
      "Epoch 82/100\n",
      "8000/8000 [==============================] - 31s 4ms/step - loss: 0.2812 - acc: 0.9471 - val_loss: 2.3328 - val_acc: 0.7262\n",
      "Epoch 83/100\n",
      "8000/8000 [==============================] - 31s 4ms/step - loss: 0.2811 - acc: 0.9479 - val_loss: 2.3393 - val_acc: 0.7243\n",
      "Epoch 84/100\n",
      "8000/8000 [==============================] - 32s 4ms/step - loss: 0.2817 - acc: 0.9473 - val_loss: 2.3483 - val_acc: 0.7242\n",
      "Epoch 85/100\n",
      "8000/8000 [==============================] - 33s 4ms/step - loss: 0.2817 - acc: 0.9476 - val_loss: 2.3450 - val_acc: 0.7221\n",
      "Epoch 86/100\n",
      "8000/8000 [==============================] - 33s 4ms/step - loss: 0.2810 - acc: 0.9473 - val_loss: 2.3428 - val_acc: 0.7249\n",
      "Epoch 87/100\n",
      "8000/8000 [==============================] - 32s 4ms/step - loss: 0.2812 - acc: 0.9479 - val_loss: 2.3521 - val_acc: 0.7256\n",
      "Epoch 88/100\n",
      "8000/8000 [==============================] - 31s 4ms/step - loss: 0.2815 - acc: 0.9477 - val_loss: 2.3513 - val_acc: 0.7242\n",
      "Epoch 89/100\n",
      "8000/8000 [==============================] - 32s 4ms/step - loss: 0.2819 - acc: 0.9479 - val_loss: 2.3518 - val_acc: 0.7240\n",
      "Epoch 90/100\n",
      "8000/8000 [==============================] - 32s 4ms/step - loss: 0.2818 - acc: 0.9478 - val_loss: 2.3584 - val_acc: 0.7251\n",
      "Epoch 91/100\n",
      "8000/8000 [==============================] - 32s 4ms/step - loss: 0.2822 - acc: 0.9472 - val_loss: 2.3623 - val_acc: 0.7243\n",
      "Epoch 92/100\n",
      "8000/8000 [==============================] - 34s 4ms/step - loss: 0.2829 - acc: 0.9473 - val_loss: 2.3716 - val_acc: 0.7244\n",
      "Epoch 93/100\n",
      "8000/8000 [==============================] - 33s 4ms/step - loss: 0.2835 - acc: 0.9477 - val_loss: 2.3692 - val_acc: 0.7224\n",
      "Epoch 94/100\n",
      "8000/8000 [==============================] - 34s 4ms/step - loss: 0.2831 - acc: 0.9477 - val_loss: 2.3812 - val_acc: 0.7245\n",
      "Epoch 95/100\n",
      "8000/8000 [==============================] - 33s 4ms/step - loss: 0.2838 - acc: 0.9473 - val_loss: 2.3719 - val_acc: 0.7236\n",
      "Epoch 96/100\n",
      "8000/8000 [==============================] - 34s 4ms/step - loss: 0.2846 - acc: 0.9477 - val_loss: 2.3824 - val_acc: 0.7231\n",
      "Epoch 97/100\n",
      "8000/8000 [==============================] - 32s 4ms/step - loss: 0.2853 - acc: 0.9478 - val_loss: 2.3856 - val_acc: 0.7238\n",
      "Epoch 98/100\n",
      "8000/8000 [==============================] - 32s 4ms/step - loss: 0.2859 - acc: 0.9473 - val_loss: 2.3892 - val_acc: 0.7235\n",
      "Epoch 99/100\n",
      "8000/8000 [==============================] - 31s 4ms/step - loss: 0.2867 - acc: 0.9474 - val_loss: 2.3966 - val_acc: 0.7226\n",
      "Epoch 100/100\n",
      "8000/8000 [==============================] - 32s 4ms/step - loss: 0.2870 - acc: 0.9468 - val_loss: 2.3871 - val_acc: 0.7238\n"
     ]
    }
   ],
   "source": [
    "# train the model\n",
    "z = np.zeros((NUM_SAMPLES, LATENT_DIM_DECODER)) # initial [s, c]\n",
    "r = model.fit(\n",
    "  [encoder_inputs, decoder_inputs, z, z], decoder_targets_one_hot,\n",
    "  batch_size=BATCH_SIZE,\n",
    "  epochs=EPOCHS,\n",
    "  validation_split=0.2\n",
    ")"
   ]
  },
  {
   "cell_type": "code",
   "execution_count": 32,
   "metadata": {},
   "outputs": [
    {
     "data": {
      "image/png": "[encoded data removed]",
      "text/plain": [
       "<matplotlib.figure.Figure at 0x7f1a63743780>"
      ]
     },
     "metadata": {},
     "output_type": "display_data"
    }
   ],
   "source": [
    "# plot some data\n",
    "plt.plot(r.history['loss'], label='loss')\n",
    "plt.plot(r.history['val_loss'], label='val_loss')\n",
    "plt.legend()\n",
    "plt.show()"
   ]
  },
  {
   "cell_type": "code",
   "execution_count": 33,
   "metadata": {},
   "outputs": [
    {
     "data": {
      "image/png": "[encoded data removed]",
      "text/plain": [
       "<matplotlib.figure.Figure at 0x7f1a637d87f0>"
      ]
     },
     "metadata": {},
     "output_type": "display_data"
    }
   ],
   "source": [
    "# accuracies\n",
    "plt.plot(r.history['acc'], label='acc')\n",
    "plt.plot(r.history['val_acc'], label='val_acc')\n",
    "plt.legend()\n",
    "plt.show()"
   ]
  },
  {
   "cell_type": "code",
   "execution_count": 34,
   "metadata": {},
   "outputs": [],
   "source": [
    "# The encoder will be stand-alone\n",
    "# From this we will get our initial decoder hidden state\n",
    "# i.e. h(1), ..., h(Tx)\n",
    "encoder_model = Model(encoder_inputs_placeholder, encoder_outputs)\n",
    "\n",
    "# next we define a T=1 decoder model\n",
    "encoder_outputs_as_input = Input(shape=(max_len_input, LATENT_DIM * 2,))\n",
    "decoder_inputs_single = Input(shape=(1,))\n",
    "decoder_inputs_single_x = decoder_embedding(decoder_inputs_single)\n",
    "\n",
    "# no need to loop over attention steps this time because there is only one step\n",
    "context = one_step_attention(encoder_outputs_as_input, initial_s)\n",
    "\n",
    "# combine context with last word\n",
    "decoder_lstm_input = context_last_word_concat_layer([context, decoder_inputs_single_x])\n",
    "\n",
    "# lstm and final dense\n",
    "o, s, c = decoder_lstm(decoder_lstm_input, initial_state=[initial_s, initial_c])\n",
    "decoder_outputs = decoder_dense(o)"
   ]
  },
  {
   "cell_type": "code",
   "execution_count": 35,
   "metadata": {},
   "outputs": [],
   "source": [
    "# create the model object\n",
    "decoder_model = Model(\n",
    "  inputs=[\n",
    "    decoder_inputs_single,\n",
    "    encoder_outputs_as_input,\n",
    "    initial_s, \n",
    "    initial_c\n",
    "  ],\n",
    "  outputs=[decoder_outputs, s, c]\n",
    ")"
   ]
  },
  {
   "cell_type": "code",
   "execution_count": 36,
   "metadata": {},
   "outputs": [],
   "source": [
    "# map indexes back into real words\n",
    "# so we can view the results\n",
    "idx2word_eng = {v:k for k, v in word2idx_inputs.items()}\n",
    "idx2word_trans = {v:k for k, v in word2idx_outputs.items()}\n"
   ]
  },
  {
   "cell_type": "code",
   "execution_count": 37,
   "metadata": {},
   "outputs": [],
   "source": [
    "def decode_sequence(input_seq):\n",
    "  # Encode the input as state vectors.\n",
    "  enc_out = encoder_model.predict(input_seq)\n",
    "\n",
    "  # Generate empty target sequence of length 1.\n",
    "  target_seq = np.zeros((1, 1))\n",
    "  \n",
    "  # Populate the first character of target sequence with the start character.\n",
    "  # NOTE: tokenizer lower-cases all words\n",
    "  target_seq[0, 0] = word2idx_outputs['<sos>']\n",
    "\n",
    "  # if we get this we break\n",
    "  eos = word2idx_outputs['<eos>']\n",
    "\n",
    "\n",
    "  # [s, c] will be updated in each loop iteration\n",
    "  s = np.zeros((1, LATENT_DIM_DECODER))\n",
    "  c = np.zeros((1, LATENT_DIM_DECODER))\n",
    "\n",
    "\n",
    "  # Create the translation\n",
    "  output_sentence = []\n",
    "  for _ in range(max_len_target):\n",
    "    o, s, c = decoder_model.predict([target_seq, enc_out, s, c])\n",
    "        \n",
    "\n",
    "    # Get next word\n",
    "    idx = np.argmax(o.flatten())\n",
    "\n",
    "    # End sentence of EOS\n",
    "    if eos == idx:\n",
    "      break\n",
    "\n",
    "    word = ''\n",
    "    if idx > 0:\n",
    "      word = idx2word_trans[idx]\n",
    "      output_sentence.append(word)\n",
    "\n",
    "    # Update the decoder input\n",
    "    # which is just the word just generated\n",
    "    target_seq[0, 0] = idx\n",
    "\n",
    "  return ' '.join(output_sentence)"
   ]
  },
  {
   "cell_type": "code",
   "execution_count": 38,
   "metadata": {},
   "outputs": [
    {
     "name": "stdout",
     "output_type": "stream",
     "text": [
      "-\n",
      "Input sentence: I agreed.\n",
      "Predicted translation: me sentía toalla.\n",
      "Actual translation: Acepté. <eos>\n",
      "Continue? [Y/n]y\n",
      "-\n",
      "Input sentence: We sat there.\n",
      "Predicted translation: nos sentamos allí.\n",
      "Actual translation: Nos sentamos ahí. <eos>\n",
      "Continue? [Y/n]y\n",
      "-\n",
      "Input sentence: You are good.\n",
      "Predicted translation: eres bueno.\n",
      "Actual translation: Estás bien. <eos>\n",
      "Continue? [Y/n]y\n",
      "-\n",
      "Input sentence: We all knew it.\n",
      "Predicted translation: todos lo sabíamos.\n",
      "Actual translation: Todos lo sabíamos. <eos>\n",
      "Continue? [Y/n]y\n",
      "-\n",
      "Input sentence: I need a favor.\n",
      "Predicted translation: necesito una gauchada.\n",
      "Actual translation: Necesito una gauchada. <eos>\n",
      "Continue? [Y/n]y\n",
      "-\n",
      "Input sentence: I woke you up.\n",
      "Predicted translation: te he despertado.\n",
      "Actual translation: Te he despertado. <eos>\n",
      "Continue? [Y/n]y\n",
      "-\n",
      "Input sentence: Are they tall?\n",
      "Predicted translation: ¿son quería.\n",
      "Actual translation: ¿Son altos? <eos>\n",
      "Continue? [Y/n]y\n",
      "-\n",
      "Input sentence: What's up, dude?\n",
      "Predicted translation: ¿qué tengo a yo ¿qué estamos yo ¿qué va\n",
      "Actual translation: ¿Qué pasa, vale? <eos>\n",
      "Continue? [Y/n]y\n",
      "-\n",
      "Input sentence: We're trapped!\n",
      "Predicted translation: estamos no reventado.\n",
      "Actual translation: ¡Estamos atrapados! <eos>\n",
      "Continue? [Y/n]y\n",
      "-\n",
      "Input sentence: I'm restless.\n",
      "Predicted translation: soy inquieto.\n",
      "Actual translation: Soy intranquilo. <eos>\n",
      "Continue? [Y/n]y\n",
      "-\n",
      "Input sentence: I'm a writer.\n",
      "Predicted translation: soy escritor.\n",
      "Actual translation: Soy escritor. <eos>\n",
      "Continue? [Y/n]n\n"
     ]
    }
   ],
   "source": [
    "while True:\n",
    "  # Do some test translations\n",
    "  i = np.random.choice(len(input_texts))\n",
    "  input_seq = encoder_inputs[i:i+1]\n",
    "  translation = decode_sequence(input_seq)\n",
    "  print('-')\n",
    "  print('Input sentence:', input_texts[i])\n",
    "  print('Predicted translation:', translation)\n",
    "  print('Actual translation:', target_texts[i])\n",
    "\n",
    "  ans = input(\"Continue? [Y/n]\")\n",
    "  if ans and ans.lower().startswith('n'):\n",
    "    break"
   ]
  },
  {
   "cell_type": "code",
   "execution_count": null,
   "metadata": {},
   "outputs": [],
   "source": []
  }
 ],
 "metadata": {
  "kernelspec": {
   "display_name": "Python 3",
   "language": "python",
   "name": "python3"
  },
  "language_info": {
   "codemirror_mode": {
    "name": "ipython",
    "version": 3
   },
   "file_extension": ".py",
   "mimetype": "text/x-python",
   "name": "python",
   "nbconvert_exporter": "python",
   "pygments_lexer": "ipython3",
   "version": "3.6.3"
  }
 },
 "nbformat": 4,
 "nbformat_minor": 2
}
