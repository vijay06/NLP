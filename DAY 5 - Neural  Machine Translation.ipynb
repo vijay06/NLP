{
 "cells": [
  {
   "cell_type": "code",
   "execution_count": 1,
   "metadata": {},
   "outputs": [
    {
     "name": "stderr",
     "output_type": "stream",
     "text": [
      "/home/vijay/anaconda3/lib/python3.6/site-packages/h5py/__init__.py:36: FutureWarning: Conversion of the second argument of issubdtype from `float` to `np.floating` is deprecated. In future, it will be treated as `np.float64 == np.dtype(float).type`.\n",
      "  from ._conv import register_converters as _register_converters\n",
      "Using TensorFlow backend.\n"
     ]
    }
   ],
   "source": [
    "from __future__ import print_function, division\n",
    "from builtins import range, input\n",
    "import os, sys\n",
    "\n",
    "from keras.models import Model\n",
    "from keras.layers import Input, LSTM, GRU, Dense, Embedding\n",
    "from keras.preprocessing.text import Tokenizer\n",
    "from keras.preprocessing.sequence import pad_sequences\n",
    "from keras.utils import to_categorical\n",
    "import numpy as np\n",
    "import matplotlib.pyplot as plt\n",
    "\n",
    "import keras.backend as K\n",
    "if len(K.tensorflow_backend._get_available_gpus()) > 0:\n",
    "  from keras.layers import CuDNNLSTM as LSTM\n",
    "  from keras.layers import CuDNNGRU as GRU"
   ]
  },
  {
   "cell_type": "code",
   "execution_count": 2,
   "metadata": {},
   "outputs": [],
   "source": [
    "# some config\n",
    "BATCH_SIZE = 64  # Batch size for training.\n",
    "EPOCHS = 100  # Number of epochs to train for.\n",
    "LATENT_DIM = 256  # Latent dimensionality of the encoding space.\n",
    "NUM_SAMPLES = 10000  # Number of samples to train on.\n",
    "MAX_SEQUENCE_LENGTH = 100\n",
    "MAX_NUM_WORDS = 20000\n",
    "EMBEDDING_DIM = 100\n",
    "\n",
    "# Where we will store the data\n",
    "input_texts = [] # sentence in original language\n",
    "target_texts = [] # sentence in target language\n",
    "target_texts_inputs = [] # sentence in target language offset by 1"
   ]
  },
  {
   "cell_type": "code",
   "execution_count": 3,
   "metadata": {},
   "outputs": [
    {
     "name": "stdout",
     "output_type": "stream",
     "text": [
      "num samples: 10000\n"
     ]
    }
   ],
   "source": [
    "t = 0\n",
    "for line in open('DATASET/spa-eng/spa.txt'):\n",
    "  # only keep a limited number of samples\n",
    "  t += 1\n",
    "  if t > NUM_SAMPLES:\n",
    "    break\n",
    "\n",
    "  # input and target are separated by tab\n",
    "  if '\\t' not in line:\n",
    "    continue\n",
    "\n",
    "  # split up the input and translation\n",
    "  input_text, translation = line.rstrip().split('\\t')\n",
    "\n",
    "  # make the target input and output\n",
    "  # recall we'll be using teacher forcing\n",
    "  target_text = translation + ' <eos>'\n",
    "  target_text_input = '<sos> ' + translation\n",
    "\n",
    "  input_texts.append(input_text)\n",
    "  target_texts.append(target_text)\n",
    "  target_texts_inputs.append(target_text_input)\n",
    "print(\"num samples:\", len(input_texts))"
   ]
  },
  {
   "cell_type": "code",
   "execution_count": 4,
   "metadata": {},
   "outputs": [
    {
     "name": "stdout",
     "output_type": "stream",
     "text": [
      "Found 2368 unique input tokens.\n"
     ]
    }
   ],
   "source": [
    "# tokenize the inputs\n",
    "tokenizer_inputs = Tokenizer(num_words=MAX_NUM_WORDS)\n",
    "tokenizer_inputs.fit_on_texts(input_texts)\n",
    "input_sequences = tokenizer_inputs.texts_to_sequences(input_texts)\n",
    "\n",
    "# get the word to index mapping for input language\n",
    "word2idx_inputs = tokenizer_inputs.word_index\n",
    "print('Found %s unique input tokens.' % len(word2idx_inputs))\n",
    "\n",
    "# determine maximum length input sequence\n",
    "max_len_input = max(len(s) for s in input_sequences)"
   ]
  },
  {
   "cell_type": "code",
   "execution_count": 5,
   "metadata": {},
   "outputs": [
    {
     "name": "stdout",
     "output_type": "stream",
     "text": [
      "Found 6302 unique output tokens.\n"
     ]
    }
   ],
   "source": [
    "# tokenize the outputs\n",
    "# don't filter out special characters\n",
    "# otherwise <sos> and <eos> won't appear\n",
    "tokenizer_outputs = Tokenizer(num_words=MAX_NUM_WORDS, filters='')\n",
    "tokenizer_outputs.fit_on_texts(target_texts + target_texts_inputs) # inefficient, oh well\n",
    "target_sequences = tokenizer_outputs.texts_to_sequences(target_texts)\n",
    "target_sequences_inputs = tokenizer_outputs.texts_to_sequences(target_texts_inputs)\n",
    "\n",
    "# get the word to index mapping for output language\n",
    "word2idx_outputs = tokenizer_outputs.word_index\n",
    "print('Found %s unique output tokens.' % len(word2idx_outputs))\n",
    "\n",
    "# store number of output words for later\n",
    "# remember to add 1 since indexing starts at 1\n",
    "num_words_output = len(word2idx_outputs) + 1\n",
    "\n",
    "# determine maximum length output sequence\n",
    "max_len_target = max(len(s) for s in target_sequences)"
   ]
  },
  {
   "cell_type": "code",
   "execution_count": 6,
   "metadata": {},
   "outputs": [
    {
     "name": "stdout",
     "output_type": "stream",
     "text": [
      "encoder_inputs.shape: (10000, 5)\n",
      "encoder_inputs[0]: [ 0  0  0  0 14]\n",
      "decoder_inputs[0]: [   2 1481    0    0    0    0    0    0    0]\n",
      "decoder_inputs.shape: (10000, 9)\n"
     ]
    }
   ],
   "source": [
    "# pad the sequences\n",
    "encoder_inputs = pad_sequences(input_sequences, maxlen=max_len_input)\n",
    "print(\"encoder_inputs.shape:\", encoder_inputs.shape)\n",
    "print(\"encoder_inputs[0]:\", encoder_inputs[0])\n",
    "\n",
    "decoder_inputs = pad_sequences(target_sequences_inputs, maxlen=max_len_target, padding='post')\n",
    "print(\"decoder_inputs[0]:\", decoder_inputs[0])\n",
    "print(\"decoder_inputs.shape:\", decoder_inputs.shape)\n",
    "\n",
    "decoder_targets = pad_sequences(target_sequences, maxlen=max_len_target, padding='post')"
   ]
  },
  {
   "cell_type": "code",
   "execution_count": 8,
   "metadata": {},
   "outputs": [
    {
     "name": "stdout",
     "output_type": "stream",
     "text": [
      "Loading word vectors...\n",
      "Found 400000 word vectors.\n"
     ]
    }
   ],
   "source": [
    "# store all the pre-trained word vectors\n",
    "print('Loading word vectors...')\n",
    "word2vec = {}\n",
    "with open(os.path.join('DATASET/glove.6B/glove.6B.%sd.txt' % EMBEDDING_DIM)) as f:\n",
    "  # is just a space-separated text file in the format:\n",
    "  # word vec[0] vec[1] vec[2] ...\n",
    "  for line in f:\n",
    "    values = line.split()\n",
    "    word = values[0]\n",
    "    vec = np.asarray(values[1:], dtype='float32')\n",
    "    word2vec[word] = vec\n",
    "print('Found %s word vectors.' % len(word2vec))"
   ]
  },
  {
   "cell_type": "code",
   "execution_count": 9,
   "metadata": {},
   "outputs": [
    {
     "name": "stdout",
     "output_type": "stream",
     "text": [
      "Filling pre-trained embeddings...\n"
     ]
    }
   ],
   "source": [
    "# prepare embedding matrix\n",
    "print('Filling pre-trained embeddings...')\n",
    "num_words = min(MAX_NUM_WORDS, len(word2idx_inputs) + 1)\n",
    "embedding_matrix = np.zeros((num_words, EMBEDDING_DIM))\n",
    "for word, i in word2idx_inputs.items():\n",
    "  if i < MAX_NUM_WORDS:\n",
    "    embedding_vector = word2vec.get(word)\n",
    "    if embedding_vector is not None:\n",
    "      # words not found in embedding index will be all zeros.\n",
    "      embedding_matrix[i] = embedding_vector"
   ]
  },
  {
   "cell_type": "code",
   "execution_count": 10,
   "metadata": {},
   "outputs": [],
   "source": [
    "# create embedding layer\n",
    "embedding_layer = Embedding(\n",
    "  num_words,\n",
    "  EMBEDDING_DIM,\n",
    "  weights=[embedding_matrix],\n",
    "  input_length=max_len_input,\n",
    "  # trainable=True\n",
    ")"
   ]
  },
  {
   "cell_type": "code",
   "execution_count": 11,
   "metadata": {},
   "outputs": [],
   "source": [
    "# create targets, since we cannot use sparse\n",
    "# categorical cross entropy when we have sequences\n",
    "decoder_targets_one_hot = np.zeros(\n",
    "  (\n",
    "    len(input_texts),\n",
    "    max_len_target,\n",
    "    num_words_output\n",
    "  ),\n",
    "  dtype='float32'\n",
    ")\n",
    "\n",
    "# assign the values\n",
    "for i, d in enumerate(decoder_targets):\n",
    "  for t, word in enumerate(d):\n",
    "    decoder_targets_one_hot[i, t, word] = 1"
   ]
  },
  {
   "cell_type": "code",
   "execution_count": 14,
   "metadata": {},
   "outputs": [],
   "source": [
    "##### build the model #####\n",
    "encoder_inputs_placeholder = Input(shape=(max_len_input,))\n",
    "x = embedding_layer(encoder_inputs_placeholder)\n",
    "encoder = LSTM(\n",
    "  LATENT_DIM,\n",
    "  return_state=True,\n",
    "  # dropout=0.5 # dropout not available on gpu\n",
    ")\n",
    "encoder_outputs, h, c = encoder(x)\n",
    "# encoder_outputs, h = encoder(x) #gru\n",
    "\n",
    "# keep only the states to pass into decoder\n",
    "encoder_states = [h, c]\n",
    "# encoder_states = [state_h] # gru"
   ]
  },
  {
   "cell_type": "code",
   "execution_count": 15,
   "metadata": {},
   "outputs": [],
   "source": [
    "# Set up the decoder, using [h, c] as initial state.\n",
    "decoder_inputs_placeholder = Input(shape=(max_len_target,))\n",
    "\n",
    "# this word embedding will not use pre-trained vectors\n",
    "# although you could\n",
    "decoder_embedding = Embedding(num_words_output, LATENT_DIM)\n",
    "decoder_inputs_x = decoder_embedding(decoder_inputs_placeholder)\n",
    "\n",
    "# since the decoder is a \"to-many\" model we want to have\n",
    "# return_sequences=True\n",
    "decoder_lstm = LSTM(\n",
    "  LATENT_DIM,\n",
    "  return_sequences=True,\n",
    "  return_state=True,\n",
    "  # dropout=0.5 # dropout not available on gpu\n",
    ")\n",
    "decoder_outputs, _, _ = decoder_lstm(\n",
    "  decoder_inputs_x,\n",
    "  initial_state=encoder_states\n",
    ")"
   ]
  },
  {
   "cell_type": "code",
   "execution_count": 16,
   "metadata": {},
   "outputs": [],
   "source": [
    "# final dense layer for predictions\n",
    "decoder_dense = Dense(num_words_output, activation='softmax')\n",
    "decoder_outputs = decoder_dense(decoder_outputs)"
   ]
  },
  {
   "cell_type": "code",
   "execution_count": 17,
   "metadata": {},
   "outputs": [],
   "source": [
    "# Create the model object\n",
    "model = Model([encoder_inputs_placeholder, decoder_inputs_placeholder], decoder_outputs)"
   ]
  },
  {
   "cell_type": "code",
   "execution_count": 18,
   "metadata": {},
   "outputs": [],
   "source": [
    "# Compile the model and train it\n",
    "model.compile(\n",
    "  optimizer='rmsprop',\n",
    "  loss='categorical_crossentropy',\n",
    "  metrics=['accuracy']\n",
    ")"
   ]
  },
  {
   "cell_type": "code",
   "execution_count": 19,
   "metadata": {},
   "outputs": [
    {
     "name": "stdout",
     "output_type": "stream",
     "text": [
      "Train on 8000 samples, validate on 2000 samples\n",
      "Epoch 1/100\n",
      "8000/8000 [==============================] - 36s 5ms/step - loss: 2.6496 - acc: 0.6576 - val_loss: 2.6144 - val_acc: 0.6579\n",
      "Epoch 2/100\n",
      "8000/8000 [==============================] - 28s 3ms/step - loss: 2.0124 - acc: 0.7155 - val_loss: 2.4055 - val_acc: 0.6731\n",
      "Epoch 3/100\n",
      "8000/8000 [==============================] - 28s 3ms/step - loss: 1.8073 - acc: 0.7356 - val_loss: 2.2533 - val_acc: 0.6917\n",
      "Epoch 4/100\n",
      "8000/8000 [==============================] - 28s 3ms/step - loss: 1.6489 - acc: 0.7538 - val_loss: 2.1244 - val_acc: 0.7083\n",
      "Epoch 5/100\n",
      "8000/8000 [==============================] - 28s 3ms/step - loss: 1.5184 - acc: 0.7689 - val_loss: 2.0784 - val_acc: 0.7207\n",
      "Epoch 6/100\n",
      "8000/8000 [==============================] - 27s 3ms/step - loss: 1.4121 - acc: 0.7814 - val_loss: 2.0214 - val_acc: 0.7293\n",
      "Epoch 7/100\n",
      "8000/8000 [==============================] - 27s 3ms/step - loss: 1.3182 - acc: 0.7922 - val_loss: 1.9879 - val_acc: 0.7343\n",
      "Epoch 8/100\n",
      "8000/8000 [==============================] - 27s 3ms/step - loss: 1.2341 - acc: 0.8024 - val_loss: 1.9548 - val_acc: 0.7371\n",
      "Epoch 9/100\n",
      "8000/8000 [==============================] - 27s 3ms/step - loss: 1.1533 - acc: 0.8112 - val_loss: 1.9511 - val_acc: 0.7399\n",
      "Epoch 10/100\n",
      "8000/8000 [==============================] - 27s 3ms/step - loss: 1.0860 - acc: 0.8196 - val_loss: 1.9269 - val_acc: 0.7393\n",
      "Epoch 11/100\n",
      "8000/8000 [==============================] - 27s 3ms/step - loss: 1.0255 - acc: 0.8278 - val_loss: 1.9446 - val_acc: 0.7381\n",
      "Epoch 12/100\n",
      "8000/8000 [==============================] - 28s 3ms/step - loss: 0.9710 - acc: 0.8345 - val_loss: 1.9345 - val_acc: 0.7367\n",
      "Epoch 13/100\n",
      "8000/8000 [==============================] - 29s 4ms/step - loss: 0.9183 - acc: 0.8431 - val_loss: 1.9388 - val_acc: 0.7388\n",
      "Epoch 14/100\n",
      "8000/8000 [==============================] - 28s 3ms/step - loss: 0.8712 - acc: 0.8497 - val_loss: 1.9758 - val_acc: 0.7316\n",
      "Epoch 15/100\n",
      "8000/8000 [==============================] - 28s 3ms/step - loss: 0.8286 - acc: 0.8553 - val_loss: 1.9811 - val_acc: 0.7320\n",
      "Epoch 16/100\n",
      "8000/8000 [==============================] - 27s 3ms/step - loss: 0.7885 - acc: 0.8613 - val_loss: 1.9852 - val_acc: 0.7303\n",
      "Epoch 17/100\n",
      "8000/8000 [==============================] - 27s 3ms/step - loss: 0.7518 - acc: 0.8673 - val_loss: 1.9987 - val_acc: 0.7332\n",
      "Epoch 18/100\n",
      "8000/8000 [==============================] - 27s 3ms/step - loss: 0.7168 - acc: 0.8727 - val_loss: 2.0105 - val_acc: 0.7306\n",
      "Epoch 19/100\n",
      "8000/8000 [==============================] - 28s 3ms/step - loss: 0.6825 - acc: 0.8771 - val_loss: 2.0039 - val_acc: 0.7325\n",
      "Epoch 20/100\n",
      "8000/8000 [==============================] - 28s 3ms/step - loss: 0.6480 - acc: 0.8820 - val_loss: 2.0101 - val_acc: 0.7318\n",
      "Epoch 21/100\n",
      "8000/8000 [==============================] - 27s 3ms/step - loss: 0.6172 - acc: 0.8871 - val_loss: 2.0139 - val_acc: 0.7318\n",
      "Epoch 22/100\n",
      "8000/8000 [==============================] - 27s 3ms/step - loss: 0.5902 - acc: 0.8917 - val_loss: 2.0352 - val_acc: 0.7305\n",
      "Epoch 23/100\n",
      "8000/8000 [==============================] - 27s 3ms/step - loss: 0.5660 - acc: 0.8957 - val_loss: 2.0513 - val_acc: 0.7299\n",
      "Epoch 24/100\n",
      "8000/8000 [==============================] - 28s 4ms/step - loss: 0.5417 - acc: 0.8988 - val_loss: 2.0733 - val_acc: 0.7274\n",
      "Epoch 25/100\n",
      "8000/8000 [==============================] - 28s 3ms/step - loss: 0.5201 - acc: 0.9029 - val_loss: 2.0845 - val_acc: 0.7266\n",
      "Epoch 26/100\n",
      "8000/8000 [==============================] - 28s 3ms/step - loss: 0.4994 - acc: 0.9067 - val_loss: 2.1206 - val_acc: 0.7270\n",
      "Epoch 27/100\n",
      "8000/8000 [==============================] - 28s 4ms/step - loss: 0.4822 - acc: 0.9096 - val_loss: 2.1486 - val_acc: 0.7278\n",
      "Epoch 28/100\n",
      "8000/8000 [==============================] - 28s 3ms/step - loss: 0.4640 - acc: 0.9114 - val_loss: 2.1563 - val_acc: 0.7262\n",
      "Epoch 29/100\n",
      "8000/8000 [==============================] - 28s 4ms/step - loss: 0.4451 - acc: 0.9144 - val_loss: 2.1798 - val_acc: 0.7270\n",
      "Epoch 30/100\n",
      "8000/8000 [==============================] - 27s 3ms/step - loss: 0.4261 - acc: 0.9173 - val_loss: 2.2056 - val_acc: 0.7277\n",
      "Epoch 31/100\n",
      "8000/8000 [==============================] - 27s 3ms/step - loss: 0.4090 - acc: 0.9208 - val_loss: 2.2133 - val_acc: 0.7258\n",
      "Epoch 32/100\n",
      "8000/8000 [==============================] - 27s 3ms/step - loss: 0.3931 - acc: 0.9222 - val_loss: 2.2285 - val_acc: 0.7279\n",
      "Epoch 33/100\n",
      "8000/8000 [==============================] - 27s 3ms/step - loss: 0.3803 - acc: 0.9246 - val_loss: 2.2491 - val_acc: 0.7263\n",
      "Epoch 34/100\n",
      "8000/8000 [==============================] - 26s 3ms/step - loss: 0.3686 - acc: 0.9276 - val_loss: 2.2478 - val_acc: 0.7262\n",
      "Epoch 35/100\n",
      "8000/8000 [==============================] - 27s 3ms/step - loss: 0.3567 - acc: 0.9286 - val_loss: 2.2641 - val_acc: 0.7253\n",
      "Epoch 36/100\n",
      "8000/8000 [==============================] - 28s 3ms/step - loss: 0.3456 - acc: 0.9309 - val_loss: 2.2625 - val_acc: 0.7239\n",
      "Epoch 37/100\n",
      "8000/8000 [==============================] - 28s 3ms/step - loss: 0.3341 - acc: 0.9329 - val_loss: 2.2624 - val_acc: 0.7253\n",
      "Epoch 38/100\n",
      "8000/8000 [==============================] - 27s 3ms/step - loss: 0.3252 - acc: 0.9346 - val_loss: 2.2957 - val_acc: 0.7244\n",
      "Epoch 39/100\n",
      "8000/8000 [==============================] - 28s 3ms/step - loss: 0.3163 - acc: 0.9356 - val_loss: 2.3087 - val_acc: 0.7242\n",
      "Epoch 40/100\n",
      "8000/8000 [==============================] - 28s 3ms/step - loss: 0.3084 - acc: 0.9370 - val_loss: 2.3081 - val_acc: 0.7254\n",
      "Epoch 41/100\n",
      "8000/8000 [==============================] - 28s 3ms/step - loss: 0.2998 - acc: 0.9387 - val_loss: 2.3218 - val_acc: 0.7244\n",
      "Epoch 42/100\n",
      "8000/8000 [==============================] - 28s 3ms/step - loss: 0.2918 - acc: 0.9402 - val_loss: 2.3312 - val_acc: 0.7244\n",
      "Epoch 43/100\n",
      "8000/8000 [==============================] - 28s 3ms/step - loss: 0.2831 - acc: 0.9424 - val_loss: 2.3290 - val_acc: 0.7255\n",
      "Epoch 44/100\n",
      "8000/8000 [==============================] - 27s 3ms/step - loss: 0.2756 - acc: 0.9430 - val_loss: 2.3518 - val_acc: 0.7232\n",
      "Epoch 45/100\n",
      "8000/8000 [==============================] - 27s 3ms/step - loss: 0.2698 - acc: 0.9441 - val_loss: 2.3377 - val_acc: 0.7232\n",
      "Epoch 46/100\n",
      "8000/8000 [==============================] - 27s 3ms/step - loss: 0.2643 - acc: 0.9449 - val_loss: 2.3590 - val_acc: 0.7227\n",
      "Epoch 47/100\n",
      "8000/8000 [==============================] - 27s 3ms/step - loss: 0.2569 - acc: 0.9472 - val_loss: 2.3698 - val_acc: 0.7217\n",
      "Epoch 48/100\n",
      "8000/8000 [==============================] - 27s 3ms/step - loss: 0.2525 - acc: 0.9476 - val_loss: 2.3675 - val_acc: 0.7223\n",
      "Epoch 49/100\n",
      "8000/8000 [==============================] - 28s 3ms/step - loss: 0.2484 - acc: 0.9478 - val_loss: 2.3755 - val_acc: 0.7227\n",
      "Epoch 50/100\n",
      "8000/8000 [==============================] - 28s 3ms/step - loss: 0.2430 - acc: 0.9488 - val_loss: 2.4059 - val_acc: 0.7202\n",
      "Epoch 51/100\n",
      "8000/8000 [==============================] - 27s 3ms/step - loss: 0.2402 - acc: 0.9497 - val_loss: 2.4004 - val_acc: 0.7217\n",
      "Epoch 52/100\n",
      "8000/8000 [==============================] - 28s 4ms/step - loss: 0.2367 - acc: 0.9504 - val_loss: 2.4043 - val_acc: 0.7237\n",
      "Epoch 53/100\n",
      "8000/8000 [==============================] - 28s 3ms/step - loss: 0.2334 - acc: 0.9504 - val_loss: 2.4084 - val_acc: 0.7206\n",
      "Epoch 54/100\n",
      "8000/8000 [==============================] - 28s 3ms/step - loss: 0.2299 - acc: 0.9512 - val_loss: 2.3959 - val_acc: 0.7218\n",
      "Epoch 55/100\n",
      "8000/8000 [==============================] - 28s 3ms/step - loss: 0.2273 - acc: 0.9517 - val_loss: 2.4199 - val_acc: 0.7212\n",
      "Epoch 56/100\n",
      "8000/8000 [==============================] - 28s 3ms/step - loss: 0.2243 - acc: 0.9525 - val_loss: 2.4236 - val_acc: 0.7204\n",
      "Epoch 57/100\n",
      "8000/8000 [==============================] - 27s 3ms/step - loss: 0.2216 - acc: 0.9526 - val_loss: 2.4111 - val_acc: 0.7217\n",
      "Epoch 58/100\n",
      "8000/8000 [==============================] - 27s 3ms/step - loss: 0.2185 - acc: 0.9534 - val_loss: 2.4270 - val_acc: 0.7216\n",
      "Epoch 59/100\n",
      "8000/8000 [==============================] - 27s 3ms/step - loss: 0.2176 - acc: 0.9526 - val_loss: 2.4134 - val_acc: 0.7222\n",
      "Epoch 60/100\n"
     ]
    },
    {
     "name": "stdout",
     "output_type": "stream",
     "text": [
      "8000/8000 [==============================] - 26s 3ms/step - loss: 0.2143 - acc: 0.9533 - val_loss: 2.4270 - val_acc: 0.7209\n",
      "Epoch 61/100\n",
      "8000/8000 [==============================] - 28s 4ms/step - loss: 0.2127 - acc: 0.9532 - val_loss: 2.4423 - val_acc: 0.7193\n",
      "Epoch 62/100\n",
      "8000/8000 [==============================] - 29s 4ms/step - loss: 0.2106 - acc: 0.9541 - val_loss: 2.4309 - val_acc: 0.7205\n",
      "Epoch 63/100\n",
      "8000/8000 [==============================] - 27s 3ms/step - loss: 0.2087 - acc: 0.9542 - val_loss: 2.4273 - val_acc: 0.7201\n",
      "Epoch 64/100\n",
      "8000/8000 [==============================] - 27s 3ms/step - loss: 0.2071 - acc: 0.9537 - val_loss: 2.4345 - val_acc: 0.7225\n",
      "Epoch 65/100\n",
      "8000/8000 [==============================] - 27s 3ms/step - loss: 0.2041 - acc: 0.9554 - val_loss: 2.4366 - val_acc: 0.7195\n",
      "Epoch 66/100\n",
      "8000/8000 [==============================] - 26s 3ms/step - loss: 0.2029 - acc: 0.9549 - val_loss: 2.4533 - val_acc: 0.7189\n",
      "Epoch 67/100\n",
      "8000/8000 [==============================] - 27s 3ms/step - loss: 0.2014 - acc: 0.9551 - val_loss: 2.4487 - val_acc: 0.7214\n",
      "Epoch 68/100\n",
      "8000/8000 [==============================] - 27s 3ms/step - loss: 0.2001 - acc: 0.9557 - val_loss: 2.4645 - val_acc: 0.7188\n",
      "Epoch 69/100\n",
      "8000/8000 [==============================] - 27s 3ms/step - loss: 0.1976 - acc: 0.9553 - val_loss: 2.4636 - val_acc: 0.7197\n",
      "Epoch 70/100\n",
      "8000/8000 [==============================] - 27s 3ms/step - loss: 0.1962 - acc: 0.9555 - val_loss: 2.4683 - val_acc: 0.7187\n",
      "Epoch 71/100\n",
      "8000/8000 [==============================] - 27s 3ms/step - loss: 0.1948 - acc: 0.9561 - val_loss: 2.4771 - val_acc: 0.7196\n",
      "Epoch 72/100\n",
      "8000/8000 [==============================] - 26s 3ms/step - loss: 0.1930 - acc: 0.9559 - val_loss: 2.4787 - val_acc: 0.7193\n",
      "Epoch 73/100\n",
      "8000/8000 [==============================] - 27s 3ms/step - loss: 0.1918 - acc: 0.9556 - val_loss: 2.4834 - val_acc: 0.7194\n",
      "Epoch 74/100\n",
      "8000/8000 [==============================] - 26s 3ms/step - loss: 0.1898 - acc: 0.9563 - val_loss: 2.4813 - val_acc: 0.7187\n",
      "Epoch 75/100\n",
      "8000/8000 [==============================] - 27s 3ms/step - loss: 0.1880 - acc: 0.9565 - val_loss: 2.4871 - val_acc: 0.7197\n",
      "Epoch 76/100\n",
      "8000/8000 [==============================] - 27s 3ms/step - loss: 0.1864 - acc: 0.9559 - val_loss: 2.4775 - val_acc: 0.7191\n",
      "Epoch 77/100\n",
      "8000/8000 [==============================] - 27s 3ms/step - loss: 0.1841 - acc: 0.9561 - val_loss: 2.4923 - val_acc: 0.7206\n",
      "Epoch 78/100\n",
      "8000/8000 [==============================] - 27s 3ms/step - loss: 0.1828 - acc: 0.9566 - val_loss: 2.5037 - val_acc: 0.7196\n",
      "Epoch 79/100\n",
      "8000/8000 [==============================] - 27s 3ms/step - loss: 0.1818 - acc: 0.9562 - val_loss: 2.4868 - val_acc: 0.7207\n",
      "Epoch 80/100\n",
      "8000/8000 [==============================] - 27s 3ms/step - loss: 0.1802 - acc: 0.9567 - val_loss: 2.5039 - val_acc: 0.7192\n",
      "Epoch 81/100\n",
      "8000/8000 [==============================] - 28s 3ms/step - loss: 0.1798 - acc: 0.9564 - val_loss: 2.4998 - val_acc: 0.7201\n",
      "Epoch 82/100\n",
      "8000/8000 [==============================] - 28s 3ms/step - loss: 0.1791 - acc: 0.9566 - val_loss: 2.5107 - val_acc: 0.7185\n",
      "Epoch 83/100\n",
      "8000/8000 [==============================] - 28s 3ms/step - loss: 0.1771 - acc: 0.9573 - val_loss: 2.5188 - val_acc: 0.7182\n",
      "Epoch 84/100\n",
      "8000/8000 [==============================] - 28s 3ms/step - loss: 0.1759 - acc: 0.9565 - val_loss: 2.5145 - val_acc: 0.7190\n",
      "Epoch 85/100\n",
      "8000/8000 [==============================] - 28s 3ms/step - loss: 0.1752 - acc: 0.9574 - val_loss: 2.5181 - val_acc: 0.7196\n",
      "Epoch 86/100\n",
      "8000/8000 [==============================] - 28s 3ms/step - loss: 0.1745 - acc: 0.9567 - val_loss: 2.5205 - val_acc: 0.7191\n",
      "Epoch 87/100\n",
      "8000/8000 [==============================] - 28s 3ms/step - loss: 0.1744 - acc: 0.9573 - val_loss: 2.5221 - val_acc: 0.7191\n",
      "Epoch 88/100\n",
      "8000/8000 [==============================] - 28s 3ms/step - loss: 0.1737 - acc: 0.9567 - val_loss: 2.5325 - val_acc: 0.7189\n",
      "Epoch 89/100\n",
      "8000/8000 [==============================] - 27s 3ms/step - loss: 0.1734 - acc: 0.9574 - val_loss: 2.5434 - val_acc: 0.7176\n",
      "Epoch 90/100\n",
      "8000/8000 [==============================] - 26s 3ms/step - loss: 0.1727 - acc: 0.9572 - val_loss: 2.5357 - val_acc: 0.7192\n",
      "Epoch 91/100\n",
      "8000/8000 [==============================] - 27s 3ms/step - loss: 0.1718 - acc: 0.9578 - val_loss: 2.5341 - val_acc: 0.7169\n",
      "Epoch 92/100\n",
      "8000/8000 [==============================] - 26s 3ms/step - loss: 0.1712 - acc: 0.9575 - val_loss: 2.5468 - val_acc: 0.7177\n",
      "Epoch 93/100\n",
      "8000/8000 [==============================] - 27s 3ms/step - loss: 0.1703 - acc: 0.9569 - val_loss: 2.5413 - val_acc: 0.7183\n",
      "Epoch 94/100\n",
      "8000/8000 [==============================] - 27s 3ms/step - loss: 0.1699 - acc: 0.9574 - val_loss: 2.5452 - val_acc: 0.7164\n",
      "Epoch 95/100\n",
      "8000/8000 [==============================] - 26s 3ms/step - loss: 0.1693 - acc: 0.9575 - val_loss: 2.5442 - val_acc: 0.7173\n",
      "Epoch 96/100\n",
      "8000/8000 [==============================] - 26s 3ms/step - loss: 0.1689 - acc: 0.9575 - val_loss: 2.5496 - val_acc: 0.7168\n",
      "Epoch 97/100\n",
      "8000/8000 [==============================] - 27s 3ms/step - loss: 0.1680 - acc: 0.9579 - val_loss: 2.5564 - val_acc: 0.7192\n",
      "Epoch 98/100\n",
      "8000/8000 [==============================] - 26s 3ms/step - loss: 0.1679 - acc: 0.9575 - val_loss: 2.5694 - val_acc: 0.7171\n",
      "Epoch 99/100\n",
      "8000/8000 [==============================] - 26s 3ms/step - loss: 0.1675 - acc: 0.9575 - val_loss: 2.5578 - val_acc: 0.7180\n",
      "Epoch 100/100\n",
      "8000/8000 [==============================] - 26s 3ms/step - loss: 0.1672 - acc: 0.9575 - val_loss: 2.5552 - val_acc: 0.7181\n"
     ]
    }
   ],
   "source": [
    "r = model.fit(\n",
    "  [encoder_inputs, decoder_inputs], decoder_targets_one_hot,\n",
    "  batch_size=BATCH_SIZE,\n",
    "  epochs=EPOCHS,\n",
    "  validation_split=0.2,\n",
    ")"
   ]
  },
  {
   "cell_type": "code",
   "execution_count": 20,
   "metadata": {},
   "outputs": [
    {
     "data": {
      "image/png": "[encoded data removed]",
      "text/plain": [
       "<matplotlib.figure.Figure at 0x7f143f2d1ba8>"
      ]
     },
     "metadata": {},
     "output_type": "display_data"
    },
    {
     "data": {
      "image/png": "[encoded data removed]",
      "text/plain": [
       "<matplotlib.figure.Figure at 0x7f143e4d00f0>"
      ]
     },
     "metadata": {},
     "output_type": "display_data"
    },
    {
     "name": "stderr",
     "output_type": "stream",
     "text": [
      "/home/vijay/anaconda3/lib/python3.6/site-packages/keras/engine/network.py:872: UserWarning: Layer cu_dnnlstm_4 was passed non-serializable keyword arguments: {'initial_state': [<tf.Tensor 'cu_dnnlstm_3/strided_slice_16:0' shape=(?, 256) dtype=float32>, <tf.Tensor 'cu_dnnlstm_3/strided_slice_17:0' shape=(?, 256) dtype=float32>]}. They will not be included in the serialized model (and thus will be missing at deserialization time).\n",
      "  '. They will not be included '\n"
     ]
    }
   ],
   "source": [
    "# plot some data\n",
    "plt.plot(r.history['loss'], label='loss')\n",
    "plt.plot(r.history['val_loss'], label='val_loss')\n",
    "plt.legend()\n",
    "plt.show()\n",
    "\n",
    "# accuracies\n",
    "plt.plot(r.history['acc'], label='acc')\n",
    "plt.plot(r.history['val_acc'], label='val_acc')\n",
    "plt.legend()\n",
    "plt.show()\n",
    "\n",
    "# Save model\n",
    "model.save('s2s.h5')"
   ]
  },
  {
   "cell_type": "code",
   "execution_count": 21,
   "metadata": {},
   "outputs": [],
   "source": [
    "# The encoder will be stand-alone\n",
    "# From this we will get our initial decoder hidden state\n",
    "encoder_model = Model(encoder_inputs_placeholder, encoder_states)\n",
    "\n",
    "decoder_state_input_h = Input(shape=(LATENT_DIM,))\n",
    "decoder_state_input_c = Input(shape=(LATENT_DIM,))\n",
    "decoder_states_inputs = [decoder_state_input_h, decoder_state_input_c]\n",
    "# decoder_states_inputs = [decoder_state_input_h] # gru\n",
    "\n",
    "decoder_inputs_single = Input(shape=(1,))\n",
    "decoder_inputs_single_x = decoder_embedding(decoder_inputs_single)"
   ]
  },
  {
   "cell_type": "code",
   "execution_count": 22,
   "metadata": {},
   "outputs": [],
   "source": [
    "# this time, we want to keep the states too, to be output\n",
    "# by our sampling model\n",
    "decoder_outputs, h, c = decoder_lstm(\n",
    "  decoder_inputs_single_x,\n",
    "  initial_state=decoder_states_inputs\n",
    ")"
   ]
  },
  {
   "cell_type": "code",
   "execution_count": 23,
   "metadata": {},
   "outputs": [],
   "source": [
    "decoder_states = [h, c]\n",
    "decoder_outputs = decoder_dense(decoder_outputs)"
   ]
  },
  {
   "cell_type": "code",
   "execution_count": 24,
   "metadata": {},
   "outputs": [],
   "source": [
    "# The sampling model\n",
    "# inputs: y(t-1), h(t-1), c(t-1)\n",
    "# outputs: y(t), h(t), c(t)\n",
    "decoder_model = Model(\n",
    "  [decoder_inputs_single] + decoder_states_inputs, \n",
    "  [decoder_outputs] + decoder_states\n",
    ")"
   ]
  },
  {
   "cell_type": "code",
   "execution_count": 25,
   "metadata": {},
   "outputs": [],
   "source": [
    "# map indexes back into real words\n",
    "# so we can view the results\n",
    "idx2word_eng = {v:k for k, v in word2idx_inputs.items()}\n",
    "idx2word_trans = {v:k for k, v in word2idx_outputs.items()}"
   ]
  },
  {
   "cell_type": "code",
   "execution_count": 26,
   "metadata": {},
   "outputs": [],
   "source": [
    "def decode_sequence(input_seq):\n",
    "  # Encode the input as state vectors.\n",
    "  states_value = encoder_model.predict(input_seq)\n",
    "\n",
    "  # Generate empty target sequence of length 1.\n",
    "  target_seq = np.zeros((1, 1))\n",
    "\n",
    "  # Populate the first character of target sequence with the start character.\n",
    "  # NOTE: tokenizer lower-cases all words\n",
    "  target_seq[0, 0] = word2idx_outputs['<sos>']\n",
    "\n",
    "  # if we get this we break\n",
    "  eos = word2idx_outputs['<eos>']\n",
    "\n",
    "  # Create the translation\n",
    "  output_sentence = []\n",
    "  for _ in range(max_len_target):\n",
    "    output_tokens, h, c = decoder_model.predict(\n",
    "      [target_seq] + states_value\n",
    "    )\n",
    "    # output_tokens, h = decoder_model.predict(\n",
    "    #     [target_seq] + states_value\n",
    "    # ) # gru\n",
    "\n",
    "    # Get next word\n",
    "    idx = np.argmax(output_tokens[0, 0, :])\n",
    "\n",
    "    # End sentence of EOS\n",
    "    if eos == idx:\n",
    "      break\n",
    "\n",
    "    word = ''\n",
    "    if idx > 0:\n",
    "      word = idx2word_trans[idx]\n",
    "      output_sentence.append(word)\n",
    "\n",
    "    # Update the decoder input\n",
    "    # which is just the word just generated\n",
    "    target_seq[0, 0] = idx\n",
    "\n",
    "    # Update states\n",
    "    states_value = [h, c]\n",
    "    # states_value = [h] # gru\n",
    "\n",
    "  return ' '.join(output_sentence)\n"
   ]
  },
  {
   "cell_type": "code",
   "execution_count": 27,
   "metadata": {},
   "outputs": [
    {
     "name": "stdout",
     "output_type": "stream",
     "text": [
      "-\n",
      "Input: I'll be OK.\n",
      "Translation: estaré bien.\n",
      "Continue? [Y/n]y\n",
      "-\n",
      "Input: Who listened?\n",
      "Translation: ¿quién escuchó?\n",
      "Continue? [Y/n]y\n",
      "-\n",
      "Input: Stop being nosy.\n",
      "Translation: no te la ¡vete en la vista.\n",
      "Continue? [Y/n]y\n",
      "-\n",
      "Input: This is life!\n",
      "Translation: ¡esto es vida!\n",
      "Continue? [Y/n]y\n",
      "-\n",
      "Input: I'm loved.\n",
      "Translation: soy amada.\n",
      "Continue? [Y/n]y\n",
      "-\n",
      "Input: Do you love me?\n",
      "Translation: ¿me quieres?\n",
      "Continue? [Y/n]y\n",
      "-\n",
      "Input: I like sewing.\n",
      "Translation: me gusta coser.\n",
      "Continue? [Y/n]y\n",
      "-\n",
      "Input: He won't know.\n",
      "Translation: no lo sabrá.\n",
      "Continue? [Y/n]y\n",
      "-\n",
      "Input: They were sick.\n",
      "Translation: ellos estaban enfermos.\n",
      "Continue? [Y/n]y\n",
      "-\n",
      "Input: I'm fat.\n",
      "Translation: estoy gordo.\n",
      "Continue? [Y/n]n\n"
     ]
    }
   ],
   "source": [
    "while True:\n",
    "  # Do some test translations\n",
    "  i = np.random.choice(len(input_texts))\n",
    "  input_seq = encoder_inputs[i:i+1]\n",
    "  translation = decode_sequence(input_seq)\n",
    "  print('-')\n",
    "  print('Input:', input_texts[i])\n",
    "  print('Translation:', translation)\n",
    "\n",
    "  ans = input(\"Continue? [Y/n]\")\n",
    "  if ans and ans.lower().startswith('n'):\n",
    "    break"
   ]
  },
  {
   "cell_type": "code",
   "execution_count": null,
   "metadata": {},
   "outputs": [],
   "source": []
  }
 ],
 "metadata": {
  "kernelspec": {
   "display_name": "Python 3",
   "language": "python",
   "name": "python3"
  },
  "language_info": {
   "codemirror_mode": {
    "name": "ipython",
    "version": 3
   },
   "file_extension": ".py",
   "mimetype": "text/x-python",
   "name": "python",
   "nbconvert_exporter": "python",
   "pygments_lexer": "ipython3",
   "version": "3.6.3"
  }
 },
 "nbformat": 4,
 "nbformat_minor": 2
}
