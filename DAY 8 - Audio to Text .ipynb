{
 "cells": [
  {
   "cell_type": "code",
   "execution_count": 1,
   "metadata": {},
   "outputs": [
    {
     "name": "stderr",
     "output_type": "stream",
     "text": [
      "/home/vijay/anaconda3/lib/python3.6/site-packages/sklearn/ensemble/weight_boosting.py:29: DeprecationWarning: numpy.core.umath_tests is an internal NumPy module and should not be imported. It will be removed in a future NumPy release.\n",
      "  from numpy.core.umath_tests import inner1d\n"
     ]
    }
   ],
   "source": [
    "import matplotlib.pyplot as plt\n",
    "import matplotlib.image as mpimg\n",
    "import pandas as pd\n",
    "import numpy as np\n",
    "import pylab as pl\n",
    "from sklearn.metrics import accuracy_score\n",
    "from sklearn.model_selection import train_test_split\n",
    "from sklearn.ensemble import (RandomForestClassifier, ExtraTreesClassifier,\n",
    "                              AdaBoostClassifier)\n",
    "from sklearn.svm import SVC\n",
    "from sklearn.decomposition import PCA\n",
    "from sklearn.preprocessing import StandardScaler"
   ]
  },
  {
   "cell_type": "code",
   "execution_count": 2,
   "metadata": {},
   "outputs": [],
   "source": [
    "from scipy.io import wavfile\n",
    "import IPython.display as ipd"
   ]
  },
  {
   "cell_type": "code",
   "execution_count": 3,
   "metadata": {},
   "outputs": [],
   "source": [
    "#seperate cats from dogs\n",
    "train_test = pd.read_csv('DATASET/audio-cats-and-dogs/train_test_split.csv', index_col=0)\n",
    "\n",
    "train_dog = train_test[\"train_dog\"]\n",
    "train_dog = train_dog.dropna()\n",
    "train_cat = train_test[\"train_cat\"]\n",
    "train_cat = train_cat.dropna()\n",
    "\n",
    "#print(train_cat)\n",
    "\n",
    "dog_files =[]\n",
    "cat_files =[]\n",
    "for dog in train_dog:\n",
    "    w = wavfile.read('DATASET/audio-cats-and-dogs/cats_dogs/'+str(dog))\n",
    "    dog_files.append(w[1])\n",
    "for cat in train_cat:\n",
    "    w = wavfile.read('DATASET/audio-cats-and-dogs/cats_dogs/'+str(cat))\n",
    "    cat_files.append(w[1])"
   ]
  },
  {
   "cell_type": "code",
   "execution_count": 5,
   "metadata": {},
   "outputs": [],
   "source": [
    "cat_loudness=[]\n",
    "dog_loudness=[]\n",
    "x_pos = np.arange(2)\n",
    "for dog in dog_files:\n",
    "    dog_loudness.append(sum(abs(dog)))\n",
    "for cat in cat_files:\n",
    "    cat_loudness.append(sum(abs(cat)))"
   ]
  },
  {
   "cell_type": "code",
   "execution_count": 6,
   "metadata": {},
   "outputs": [],
   "source": [
    "df_dog = pd.DataFrame(dog_files).fillna(int(0))\n",
    "df_cat = pd.DataFrame(cat_files).fillna(int(0))[:64]"
   ]
  },
  {
   "cell_type": "code",
   "execution_count": 7,
   "metadata": {},
   "outputs": [],
   "source": [
    "#calculating variance\n",
    "dog_vars =[]\n",
    "cat_vars = []\n",
    "for row in df_dog.as_matrix():\n",
    "    dog_vars.append(np.var(row))\n",
    "for row in df_cat.as_matrix():\n",
    "    cat_vars.append(np.var(row))"
   ]
  },
  {
   "cell_type": "code",
   "execution_count": 8,
   "metadata": {},
   "outputs": [],
   "source": [
    "#calculating sum\n",
    "dog_sum =[]\n",
    "cat_sum = []\n",
    "for row in df_dog.as_matrix():\n",
    "    dog_sum.append(sum(row))\n",
    "for row in df_cat.as_matrix():\n",
    "    cat_sum.append(sum(row))"
   ]
  },
  {
   "cell_type": "code",
   "execution_count": 9,
   "metadata": {},
   "outputs": [],
   "source": [
    "pca = PCA(n_components=2)\n",
    "pca_2d_dog = pca.fit_transform(df_dog)\n",
    "pca_df_dog = pd.DataFrame(pca_2d_dog,columns=[\"pc1\",\"pc2\"])\n",
    "\n",
    "pca = PCA(n_components=2)\n",
    "pca_2d_cat = pca.fit_transform(df_cat)\n",
    "pca_df_cat = pd.DataFrame(pca_2d_cat,columns=[\"pc1\",\"pc2\"])"
   ]
  },
  {
   "cell_type": "code",
   "execution_count": 10,
   "metadata": {},
   "outputs": [],
   "source": [
    "\n",
    "\n",
    "pca_df_dog[\"variance\"]=dog_vars\n",
    "pca_df_cat[\"variance\"]=cat_vars\n",
    "pca_df_dog[\"sum\"]=dog_sum\n",
    "pca_df_cat[\"sum\"]=cat_sum\n",
    "\n",
    "pca_df_dog[\"loudness\"]=dog_loudness\n",
    "pca_df_cat[\"loudness\"]= cat_loudness[:64]\n",
    "pca_df_dog[\"label\"]=np.zeros(len(pca_df_dog))\n",
    "pca_df_cat[\"label\"]=np.ones(len(pca_df_cat))\n",
    "\n",
    "df = pd.concat([pca_df_dog,pca_df_cat])"
   ]
  },
  {
   "cell_type": "code",
   "execution_count": 11,
   "metadata": {},
   "outputs": [],
   "source": [
    "#little help function to measure accuracy\n",
    "def predict_acc(X_test,y_test,clf):\n",
    "    predictions=[]       \n",
    "    for x in X_test.as_matrix(): \n",
    "    \n",
    "        predictions.append(float(clf.predict([x])))   \n",
    "    \n",
    "    acc = accuracy_score(y_test, predictions)\n",
    "    return [acc,predictions]"
   ]
  },
  {
   "cell_type": "code",
   "execution_count": 12,
   "metadata": {},
   "outputs": [],
   "source": [
    "X = df[[\"pc1\",\"pc2\",\"variance\",\"sum\",\"loudness\"]]\n",
    "y = df[\"label\"]\n",
    "\n",
    "X_train, X_test, y_train, y_test = train_test_split(X, y, test_size=0.25, random_state=12,stratify=y)"
   ]
  },
  {
   "cell_type": "code",
   "execution_count": 13,
   "metadata": {},
   "outputs": [
    {
     "name": "stdout",
     "output_type": "stream",
     "text": [
      "Mean accuracy of 10 sample splits is 0.9125\n"
     ]
    }
   ],
   "source": [
    "accs=[]\n",
    "n=10\n",
    "for i in range(n):\n",
    "\n",
    "    X_train, X_test, y_train, y_test = train_test_split(X, y, test_size=0.25, random_state=12,stratify=y)\n",
    "    # using Random Forest CLassification\n",
    "    classifier =ExtraTreesClassifier()\n",
    "\n",
    "    clf = classifier\n",
    "    clf = clf.fit(X_train, y_train)\n",
    "    acc = predict_acc(X_test,y_test,clf)[0]\n",
    "    accs.append(acc)\n",
    "print(\"Mean accuracy of \"+str(n)+\" sample splits is \"+str(np.mean(accs)))"
   ]
  },
  {
   "cell_type": "code",
   "execution_count": null,
   "metadata": {},
   "outputs": [],
   "source": []
  }
 ],
 "metadata": {
  "kernelspec": {
   "display_name": "Python 3",
   "language": "python",
   "name": "python3"
  },
  "language_info": {
   "codemirror_mode": {
    "name": "ipython",
    "version": 3
   },
   "file_extension": ".py",
   "mimetype": "text/x-python",
   "name": "python",
   "nbconvert_exporter": "python",
   "pygments_lexer": "ipython3",
   "version": "3.6.3"
  }
 },
 "nbformat": 4,
 "nbformat_minor": 2
}
